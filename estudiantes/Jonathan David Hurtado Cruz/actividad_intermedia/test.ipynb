{
 "cells": [
  {
   "cell_type": "code",
   "execution_count": 34,
   "metadata": {},
   "outputs": [
    {
     "ename": "AttributeError",
     "evalue": "'str' object has no attribute 'items'",
     "output_type": "error",
     "traceback": [
      "\u001b[0;31m---------------------------------------------------------------------------\u001b[0m",
      "\u001b[0;31mAttributeError\u001b[0m                            Traceback (most recent call last)",
      "Cell \u001b[0;32mIn[34], line 31\u001b[0m\n\u001b[1;32m     28\u001b[0m     \u001b[39mreturn\u001b[39;00m resultadobusqueda\n\u001b[1;32m     30\u001b[0m resultado \u001b[39m=\u001b[39m buscatitulo(\u001b[39m\"\u001b[39m\u001b[39marticle-journal\u001b[39m\u001b[39m\"\u001b[39m, \u001b[39m\"\u001b[39m\u001b[39minformation\u001b[39m\u001b[39m\"\u001b[39m, biblioteca())\n\u001b[0;32m---> 31\u001b[0m \u001b[39mprint\u001b[39m(unbox(resultado[\u001b[39m0\u001b[39;49m][\u001b[39m'\u001b[39;49m\u001b[39mid\u001b[39;49m\u001b[39m'\u001b[39;49m]))\n",
      "File \u001b[0;32m~/Documents/GitHub/curso_python_extenso/estudiantes/Jonathan David Hurtado Cruz/actividad_intermedia/busqueda_2_intento.py:58\u001b[0m, in \u001b[0;36munbox\u001b[0;34m(autores)\u001b[0m\n\u001b[1;32m     56\u001b[0m resultado \u001b[39m=\u001b[39m \u001b[39m\"\u001b[39m\u001b[39m\"\u001b[39m\n\u001b[1;32m     57\u001b[0m \u001b[39mfor\u001b[39;00m autor \u001b[39min\u001b[39;00m autores:\n\u001b[0;32m---> 58\u001b[0m     nombre_autor \u001b[39m=\u001b[39m \u001b[39m\"\u001b[39m\u001b[39m\"\u001b[39m\n\u001b[1;32m     59\u001b[0m     \u001b[39mfor\u001b[39;00m k, v \u001b[39min\u001b[39;00m autor\u001b[39m.\u001b[39mitems():\n\u001b[1;32m     60\u001b[0m         nombre_autor \u001b[39m+\u001b[39m\u001b[39m=\u001b[39m v\n",
      "\u001b[0;31mAttributeError\u001b[0m: 'str' object has no attribute 'items'"
     ]
    }
   ],
   "source": [
    "# Función buscador en biblioteca por fecha\n",
    "from biblioteca import biblioteca\n",
    "from busqueda_2_intento import *\n",
    "\n",
    "\"\"\" \n",
    "Debe buscar por título, autor, año de publicación y palabras claves.\n",
    "\n",
    "Debe tener la opción de buscar por libro, artículo, tesis o cualquier otro tipo de elemento.\n",
    "\n",
    "Debe tener la opción de buscar por coincidencia exacta o por coincidencia parcial.\n",
    "\n",
    "Debe tener la capacidad de formatear el resultado para hacerlo legible al usuario.\n",
    "\n",
    "Debe poder lidiar con el tipo de dato de los autores (list) y de las fechas (dict). \"\"\"\n",
    "\n",
    "def buscatitulo(tipodocumento: str, cadenaclave:str, biblioteca:list) -> list:\n",
    "    resultadobusqueda = []\n",
    "\n",
    "    if tipodocumento != 'todo':\n",
    "        for elemento in biblioteca:\n",
    "            if elemento['type'] in tipodocumento and cadenaclave.lower() in elemento['title'].lower():\n",
    "                #resultadobusqueda.append(int(biblioteca.index(elemento)))\n",
    "                resultadobusqueda.append(elemento)\n",
    "    else:\n",
    "        for elemento in biblioteca:\n",
    "            if cadenaclave.lower() in elemento['title'].lower():\n",
    "                resultadobusqueda.append(int(biblioteca.index(elemento)))\n",
    "    return resultadobusqueda\n",
    "\n",
    "resultado = buscatitulo(\"article-journal\", \"information\", biblioteca())\n",
    "print(unbox(resultado[0]['id']))"
   ]
  },
  {
   "cell_type": "code",
   "execution_count": 37,
   "metadata": {},
   "outputs": [
    {
     "name": "stdout",
     "output_type": "stream",
     "text": [
      "[{'id': 'Paz-Trillo.etal2005information', 'type': 'article-journal', 'container-title': 'Journal of the Brazilian Computer Society', 'DOI': '10/bq8g32', 'ISSN': '0104-6500, 1678-4804', 'issue': '2', 'language': 'en', 'note': 'number: 2\\n00022', 'page': '17-31', 'source': 'CrossRef', 'title': 'An information retrieval application using ontologies', 'URL': 'http://link.springer.com/10.1007/BF03192373', 'volume': '11', 'author': [{'family': 'Paz-Trillo', 'given': 'Christian'}, {'family': 'Wassermann', 'given': 'Renata'}, {'family': 'Braga', 'given': 'Paula P.'}], 'accessed': {'date-parts': [['2016', 11, 15]]}, 'issued': {'date-parts': [['2005', 6]]}}]\n"
     ]
    }
   ],
   "source": [
    "print(busqueda('Renata', 'author', 'article-journal'))"
   ]
  },
  {
   "cell_type": "code",
   "execution_count": 40,
   "metadata": {},
   "outputs": [
    {
     "name": "stdout",
     "output_type": "stream",
     "text": [
      "[]\n"
     ]
    }
   ],
   "source": [
    "print(busqueda('Renata', 'author', 'comic'))"
   ]
  },
  {
   "cell_type": "code",
   "execution_count": 23,
   "metadata": {},
   "outputs": [
    {
     "data": {
      "text/plain": [
       "list"
      ]
     },
     "execution_count": 23,
     "metadata": {},
     "output_type": "execute_result"
    }
   ],
   "source": [
    "rta=buscatitulo(\"article-journal\", 'gdfsgsfgfs', biblioteca())\n",
    "type(rta)"
   ]
  },
  {
   "cell_type": "code",
   "execution_count": null,
   "metadata": {},
   "outputs": [],
   "source": [
    "import requests\n",
    "import json\n",
    "r = requests.get(\"https://raw.githubusercontent.com/Taller-Abierto-de-Humanidades-Digitales/curso_python_extenso/main/data/bibliografia.json\")\n",
    "d=json.loads(r.text)\n",
    "d"
   ]
  }
 ],
 "metadata": {
  "kernelspec": {
   "display_name": "Python 3",
   "language": "python",
   "name": "python3"
  },
  "language_info": {
   "codemirror_mode": {
    "name": "ipython",
    "version": 3
   },
   "file_extension": ".py",
   "mimetype": "text/x-python",
   "name": "python",
   "nbconvert_exporter": "python",
   "pygments_lexer": "ipython3",
   "version": "3.9.6"
  },
  "orig_nbformat": 4
 },
 "nbformat": 4,
 "nbformat_minor": 2
}
